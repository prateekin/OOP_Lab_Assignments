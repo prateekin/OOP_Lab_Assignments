{
  "nbformat": 4,
  "nbformat_minor": 0,
  "metadata": {
    "colab": {
      "name": "Prateek_Agrawal_20BCS101_OOP_LAB_4.ipynb",
      "provenance": [],
      "authorship_tag": "ABX9TyPw9jSwm9mGCU5z5pADra7k",
      "include_colab_link": true
    },
    "kernelspec": {
      "name": "python3",
      "display_name": "Python 3"
    },
    "language_info": {
      "name": "python"
    }
  },
  "cells": [
    {
      "cell_type": "markdown",
      "metadata": {
        "id": "view-in-github",
        "colab_type": "text"
      },
      "source": [
        "<a href=\"https://colab.research.google.com/github/prateekin/OOP_Lab_Assignments/blob/main/Prateek_Agrawal_20BCS101_OOP_LAB_4.ipynb\" target=\"_parent\"><img src=\"https://colab.research.google.com/assets/colab-badge.svg\" alt=\"Open In Colab\"/></a>"
      ]
    },
    {
      "cell_type": "markdown",
      "metadata": {
        "id": "8pum6YU0VhUb"
      },
      "source": [
        "## Question 1\n",
        "\n"
      ]
    },
    {
      "cell_type": "code",
      "metadata": {
        "colab": {
          "base_uri": "https://localhost:8080/"
        },
        "id": "Vj-emggGRvH1",
        "outputId": "851f839b-2d43-406d-a788-881bc3dcc259"
      },
      "source": [
        "# Creating a node class to represent a node. It consists of two attributes i.e data and the address of the next node to which it is pointing\n",
        "class node:\n",
        "    def __init__(self, data):\n",
        "        self.data = data\n",
        "        self.next = None\n",
        "\n",
        "    def __del__(self):\n",
        "        print(\"Node deleted\")\n",
        "\n",
        "class stack:\n",
        "    \n",
        "    def __init__(self):\n",
        "        self.head = None\n",
        "    \n",
        "    def isEmpty(self):\n",
        "        if self.head == None:\n",
        "            return True\n",
        "        else:\n",
        "            return False\n",
        "    \n",
        "    def push(self, value):\n",
        "        if self.head == None:\n",
        "            self.head = node(value)\n",
        "        else:\n",
        "            newNode = node(value)\n",
        "            newNode.next = self.head\n",
        "            self.head = newNode\n",
        "    \n",
        "    def pop(self):\n",
        "        if self.isEmpty():\n",
        "            print(\"Stack is already empty.\")\n",
        "            return None\n",
        "        else:\n",
        "            poppedElement = self.head\n",
        "            self.head = self.head.next\n",
        "            poppedElement.next = None\n",
        "            return poppedElement.data\n",
        "    \n",
        "    def display(self):\n",
        "        cNode = self.head\n",
        "        if self.head == None:\n",
        "            print(\"The Stack is Empty.\")\n",
        "        else:\n",
        "            while (cNode != None):\n",
        "                print(f\"{cNode.data} -> \",end=\"\")\n",
        "                cNode = cNode.next\n",
        "            print(\"\\n\")\n",
        "            return \n",
        "\n",
        "    def __del__(self):\n",
        "        print(\"Stack deleted\")\n",
        "\n",
        "s = stack()\n",
        "s.push(1)\n",
        "s.push(2)\n",
        "s.push(3)\n",
        "s.push(4)\n",
        "s.display()\n",
        "# print(s.pop())\n",
        "s.pop()\n",
        "s.display()\n",
        "del s"
      ],
      "execution_count": 2,
      "outputs": [
        {
          "output_type": "stream",
          "name": "stdout",
          "text": [
            "4 -> 3 -> 2 -> 1 -> \n",
            "\n",
            "Node deleted\n",
            "3 -> 2 -> 1 -> \n",
            "\n",
            "Stack deleted\n",
            "Node deleted\n",
            "Node deleted\n",
            "Node deleted\n"
          ]
        }
      ]
    },
    {
      "cell_type": "markdown",
      "metadata": {
        "id": "EsiEEbBDWGaO"
      },
      "source": [
        "## Question 2"
      ]
    },
    {
      "cell_type": "code",
      "metadata": {
        "colab": {
          "base_uri": "https://localhost:8080/"
        },
        "id": "CKHTFGJZSTPU",
        "outputId": "e82ed5ba-44a3-41ab-bf0e-c02f26d8d4a5"
      },
      "source": [
        "class areaDefault:\n",
        "    def __init__(self):\n",
        "        self.l = int(input(\"Enter length : \"))\n",
        "        self.b = int(input(\"Enter breath : \"))\n",
        "    def area(self):\n",
        "        return self.l * self.b\n",
        "\n",
        "class areaPara:\n",
        "    def __init__(self, l, b):\n",
        "        self.l = l\n",
        "        self.b = b\n",
        "    def area(self):\n",
        "        return self.l * self.b\n",
        "\n",
        "\n",
        "a1 = areaDefault()\n",
        "print(f\"The area calculated using default construcors : {a1.area()} \")\n",
        "\n",
        "l = int(input(\"Enter length : \"))\n",
        "b = int(input(\"Enter breath : \"))\n",
        "a2 = areaPara(l,b)\n",
        "print(f\"The area calculated using parameterized construcors : {a2.area()} \")\n"
      ],
      "execution_count": 13,
      "outputs": [
        {
          "output_type": "stream",
          "name": "stdout",
          "text": [
            "Enter length : 2\n",
            "Enter breath : 3\n",
            "The area calculated using default construcors : 6 \n",
            "Enter length : 2\n",
            "Enter breath : 3\n",
            "The area calculated using parameterized construcors : 6 \n"
          ]
        }
      ]
    },
    {
      "cell_type": "markdown",
      "metadata": {
        "id": "AZAs1yxSWSU8"
      },
      "source": [
        "## Question 3"
      ]
    },
    {
      "cell_type": "code",
      "metadata": {
        "colab": {
          "base_uri": "https://localhost:8080/"
        },
        "id": "AtD9FJHsSTlt",
        "outputId": "eb45e6a1-e898-4a45-c22e-6ff70102f53d"
      },
      "source": [
        "class node:\n",
        "    def __init__(self, data):\n",
        "        self.data = data\n",
        "        self.next = None\n",
        "    def __del__(self):\n",
        "        print(\"Node deleted\")\n",
        "class queue:\n",
        "    \n",
        "    def __init__(self):\n",
        "        self.front = None\n",
        "        self.rear = None\n",
        "    \n",
        "    def isEmpty(self):\n",
        "        if self.front == None:\n",
        "            return True\n",
        "        else:\n",
        "            return False\n",
        "    \n",
        "    def enqueue(self, value):\n",
        "        if self.front == None:\n",
        "            temp = node(value)\n",
        "            self.front = self.rear = temp\n",
        "            return\n",
        "        else:\n",
        "            temp = node(value)\n",
        "            self.rear.next = temp\n",
        "            self.rear = temp\n",
        "    \n",
        "    def dequeue(self):\n",
        "        if self.isEmpty():\n",
        "            print(\"The queue is Empty.\")\n",
        "        else:\n",
        "            dequeuedElement = self.front\n",
        "            self.front = self.front.next\n",
        "            if (self.front == None):\n",
        "                self.rear = None\n",
        "            del dequeuedElement\n",
        "    \n",
        "    def display(self):\n",
        "        temp = self.front\n",
        "        while(temp!=None):\n",
        "            print(f\"{temp.data} -> \",end=\"\")\n",
        "            temp = temp.next\n",
        "\n",
        "    def __del__(self):\n",
        "      print(\"queue memory freed\")\n",
        "\n",
        "q = queue()\n",
        "q.enqueue(1)\n",
        "q.enqueue(2)\n",
        "q.enqueue(3)\n",
        "q.enqueue(4)\n",
        "print(q.front.data)\n",
        "print(q.rear.data)\n",
        "print(\"The queue is : \",end=\"\")\n",
        "q.display()\n",
        "print('\\n')\n",
        "q.dequeue()\n"
      ],
      "execution_count": 14,
      "outputs": [
        {
          "output_type": "stream",
          "name": "stdout",
          "text": [
            "queue memory freed\n",
            "Node deleted\n",
            "Node deleted\n",
            "Node deleted\n",
            "1\n",
            "4\n",
            "The queue is : 1 -> 2 -> 3 -> 4 -> \n",
            "\n",
            "Node deleted\n"
          ]
        }
      ]
    }
  ]
}