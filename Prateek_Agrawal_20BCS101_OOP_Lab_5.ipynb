{
  "nbformat": 4,
  "nbformat_minor": 0,
  "metadata": {
    "colab": {
      "name": "Prateek_Agrawal_20BCS101_OOP_Lab_5.ipynb",
      "provenance": [],
      "authorship_tag": "ABX9TyMJESixKfzKPf1xIL86Tttu",
      "include_colab_link": true
    },
    "kernelspec": {
      "name": "python3",
      "display_name": "Python 3"
    },
    "language_info": {
      "name": "python"
    }
  },
  "cells": [
    {
      "cell_type": "markdown",
      "metadata": {
        "id": "view-in-github",
        "colab_type": "text"
      },
      "source": [
        "<a href=\"https://colab.research.google.com/github/prateekin/OOP_Lab_Assignments/blob/main/Prateek_Agrawal_20BCS101_OOP_Lab_5.ipynb\" target=\"_parent\"><img src=\"https://colab.research.google.com/assets/colab-badge.svg\" alt=\"Open In Colab\"/></a>"
      ]
    },
    {
      "cell_type": "markdown",
      "metadata": {
        "id": "hKhdTLYGnklT"
      },
      "source": [
        "1. Write a Python programme to create the parent class shape, derive the subclasses circle, \n",
        "square, and rectangle from the class shape, and demonstrate polymorphism in inheritance \n",
        "using a member function area ()"
      ]
    },
    {
      "cell_type": "code",
      "metadata": {
        "id": "rxSDKckmnjDM",
        "colab": {
          "base_uri": "https://localhost:8080/"
        },
        "outputId": "b2807a8b-2887-4c34-cb8d-2e9754f26fc0"
      },
      "source": [
        "class shape:\n",
        "  def __init__(self):\n",
        "    pass\n",
        "  def area(self):\n",
        "    pass\n",
        "\n",
        "class circle(shape):\n",
        "  def __init__(self,radius):\n",
        "    self.radius = radius\n",
        "  def area(self):\n",
        "    print(3.14*self.radius*self.radius)\n",
        "\n",
        "class rectangle(shape):\n",
        "  def __init__(self, length, breadth):\n",
        "    self.length = length\n",
        "    self.breadth = breadth\n",
        "  def area(self):\n",
        "    print(self.length*self.breadth)\n",
        "\n",
        "class square(shape):\n",
        "  def __init__(self, side):\n",
        "    self.side = side\n",
        "  def area(self):\n",
        "    print(self.side*self.side)\n",
        "    \n",
        "\n",
        "circleObj = circle(2);\n",
        "squareObj = square(2);\n",
        "rectangleObj = rectangle(2,4);\n",
        "for obj in (circleObj, squareObj, rectangleObj):\n",
        "  obj.area();"
      ],
      "execution_count": 6,
      "outputs": [
        {
          "output_type": "stream",
          "name": "stdout",
          "text": [
            "12.56\n",
            "4\n",
            "8\n"
          ]
        }
      ]
    },
    {
      "cell_type": "markdown",
      "metadata": {
        "id": "KO2Y6PijAsDF"
      },
      "source": [
        "2. The family has decided to travel by road from Dharwad to Belagavi, and they have \n",
        "chosen to estimate the cost before starting on this journey. Write python code to create \n",
        "the parent class Travel with member functions include the number of passengers, the \n",
        "distance travelled, and the mode of transportation. Derive two subclasses, train and bus, \n",
        "from the parent class, each with a member function that calculates the cost of trip. Also, \n",
        "keep the numbers of passengers as a private member of the parent class and try to access \n",
        "it through the child class to estimate costs.\n",
        "\n",
        "    [Note: Assume cost of travelling/person through train = 60 rs, cost of travelling /person \n",
        "    through bus= 100 rs]"
      ]
    },
    {
      "cell_type": "code",
      "metadata": {
        "colab": {
          "base_uri": "https://localhost:8080/"
        },
        "id": "8Gd_ThWIA1jF",
        "outputId": "3d807771-a18f-4b09-f901-287f6bb6040c"
      },
      "source": [
        "class Travel:\n",
        "  def __init__(self, numPersons, distanceTravelled, modeTransportation):\n",
        "    self.__numPersons = numPersons\n",
        "    self.distanceTravelled = distanceTravelled\n",
        "    self.modeTransportation = modeTransportation\n",
        "  def getNumPersons(self):\n",
        "    return self.__numPersons\n",
        "\n",
        "\n",
        "\n",
        "\n",
        "class Train(Travel):\n",
        "  def __init__(self, numPersons, distanceTravelled, modeTransportation):\n",
        "    super().__init__(numPersons, distanceTravelled, modeTransportation)\n",
        "  def calCost(self):\n",
        "    print(f\"Travel cost by train is {60*self.getNumPersons()}\")\n",
        "\n",
        "class Bus(Travel):\n",
        "  def __init__(self,numPersons, distanceTravelled, modeTransportation):\n",
        "    super().__init__(numPersons, distanceTravelled, modeTransportation)\n",
        "  def calCost(self):\n",
        "    print(f\"Travel cost by buys is {100*self.getNumPersons()}\")\n",
        "\n",
        "\n",
        "bus1 = Bus(10, 50,'bus')\n",
        "bus1.calCost()\n",
        "\n",
        "train1 = Train(10, 50, 'train')\n",
        "train1.calCost()"
      ],
      "execution_count": 24,
      "outputs": [
        {
          "output_type": "stream",
          "name": "stdout",
          "text": [
            "Travel cost by buys is 1000\n",
            "Travel cost by train is 600\n"
          ]
        }
      ]
    },
    {
      "cell_type": "markdown",
      "metadata": {
        "id": "4V8g5qFbDK5l"
      },
      "source": [
        "3. Assume that there a class Car with model number as its member variable. Write a python\n",
        "program to swap the values of model number in Car objects c1 and c2."
      ]
    },
    {
      "cell_type": "code",
      "metadata": {
        "colab": {
          "base_uri": "https://localhost:8080/"
        },
        "id": "T6mr19VdDNpl",
        "outputId": "4a8c4dc7-22bf-460b-9da1-738fcd2a1b1f"
      },
      "source": [
        "class Car:\n",
        "  def __init__(self, modelno):\n",
        "    self.modelno = modelno\n",
        "\n",
        "def swap(car1, car2):\n",
        "  car1.modelno,car2.modelno = car2.modelno,car1.modelno\n",
        "\n",
        "car1 = Car(\"Model 1\")\n",
        "car2 = Car(\"Model 2\")\n",
        "print(f\"The model of car 1 and car 2 before swapping : {car1.modelno}, {car2.modelno}\")\n",
        "swap(car1,car2)\n",
        "print(f\"The model of car 1 and car 2 after swapping  : {car1.modelno}, {car2.modelno}\")\n"
      ],
      "execution_count": 9,
      "outputs": [
        {
          "output_type": "stream",
          "name": "stdout",
          "text": [
            "The model of car 1 and car 2 before swapping : Model 1, Model 2\n",
            "The model of car 1 and car 2 after swapping  : Model 2, Model 1\n"
          ]
        }
      ]
    },
    {
      "cell_type": "code",
      "metadata": {
        "id": "hnU2CsECD6k_"
      },
      "source": [
        ""
      ],
      "execution_count": null,
      "outputs": []
    }
  ]
}