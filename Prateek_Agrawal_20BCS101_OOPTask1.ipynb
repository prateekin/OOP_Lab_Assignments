{
  "nbformat": 4,
  "nbformat_minor": 0,
  "metadata": {
    "colab": {
      "name": "Prateek_Agrawal_20BCS101_OOPTask1.ipynb",
      "provenance": [],
      "authorship_tag": "ABX9TyM+90Vrj/EbevkSObAo/gvu",
      "include_colab_link": true
    },
    "kernelspec": {
      "name": "python3",
      "display_name": "Python 3"
    },
    "language_info": {
      "name": "python"
    }
  },
  "cells": [
    {
      "cell_type": "markdown",
      "metadata": {
        "id": "view-in-github",
        "colab_type": "text"
      },
      "source": [
        "<a href=\"https://colab.research.google.com/github/prateekin/OOP_Lab_Assignments/blob/main/Prateek_Agrawal_20BCS101_OOPTask1.ipynb\" target=\"_parent\"><img src=\"https://colab.research.google.com/assets/colab-badge.svg\" alt=\"Open In Colab\"/></a>"
      ]
    },
    {
      "cell_type": "code",
      "metadata": {
        "id": "9R6Vx28unkgP",
        "colab": {
          "base_uri": "https://localhost:8080/"
        },
        "outputId": "2470f5a1-d81d-4e52-d790-fd7830d4e62e"
      },
      "source": [
        "#Question - 1\n",
        "def checkLeapYear(year):\n",
        "  if ((year%400 == 0) or ((year % 4 == 0) and (year %100 !=0))):\n",
        "    return True\n",
        "  else:\n",
        "    return False\n",
        "\n",
        "\n",
        "year = int(input(\"Enter an year to check whether it is an Leap Year or not : \"))\n",
        "print(f\"{year} is a Leap Year.\") if checkLeapYear(year) == True else print(f\"{year} is not a Leap year\")"
      ],
      "execution_count": null,
      "outputs": [
        {
          "output_type": "stream",
          "name": "stdout",
          "text": [
            "Enter an year to check whether it is an Leap Year or not : 2021\n",
            "2021 is not a Leap year\n"
          ]
        }
      ]
    },
    {
      "cell_type": "code",
      "metadata": {
        "colab": {
          "base_uri": "https://localhost:8080/"
        },
        "id": "acc3_wKFyVar",
        "outputId": "023970c2-63fb-4288-9139-6472fe755daf"
      },
      "source": [
        "#Question - 2\n",
        "n = int(input(\"Enter a number : \"))\n",
        "if (n%2 != 0 or n>=6 and n<=20): print(\"Weird\")\n",
        "elif(n%2==0 and (n>=2 and n<=5 or n>=20)): print(\"Not Weird\")"
      ],
      "execution_count": null,
      "outputs": [
        {
          "output_type": "stream",
          "name": "stdout",
          "text": [
            "Enter a number : 7\n",
            "Weird\n"
          ]
        }
      ]
    },
    {
      "cell_type": "code",
      "metadata": {
        "colab": {
          "base_uri": "https://localhost:8080/"
        },
        "id": "QZCbXvUNzu4s",
        "outputId": "275777c8-0a29-42c6-b191-9cb1494c86c0"
      },
      "source": [
        "#Question - 3\n",
        "def fashionablyLate(arrivals, person):\n",
        "  if (person in arrivals[len(arrivals)//2:len(arrivals)-1]):\n",
        "    print(f\"{person} is fashionably Late \")\n",
        "  else:\n",
        "    print(f\"{person} is not fashionably Late\")\n",
        "  \n",
        "\n",
        "Arrivals = [\"Hardik\", \"Rahul\", \"Virat\", \"Rishabh\", \"Mahi\" ,\"Rohit\", \"Rahane\"]\n",
        "person = input(\"Enter the name of person : \")\n",
        "fashionablyLate(Arrivals,person)"
      ],
      "execution_count": null,
      "outputs": [
        {
          "output_type": "stream",
          "name": "stdout",
          "text": [
            "Enter the name of person : Virat\n",
            "Virat is not fashionably Late\n"
          ]
        }
      ]
    },
    {
      "cell_type": "code",
      "metadata": {
        "colab": {
          "base_uri": "https://localhost:8080/"
        },
        "id": "t3XZRud7_B4h",
        "outputId": "ab8b724d-8404-4e80-8084-22bfe9229252"
      },
      "source": [
        "# Question - 4\n",
        "def check(doc_list, check_word):\n",
        "  result = []\n",
        "  for statement in doc_list:\n",
        "    sentence = statement.replace(\",\",\"\")\n",
        "    sentence = sentence.replace(\".\",\"\")\n",
        "    sentence = sentence.split()\n",
        "    for word in sentence:\n",
        "      word = word.lower()\n",
        "      if check_word == word:\n",
        "        result.append(statement)\n",
        "  for r in result:print(r)\n",
        "  \n",
        "doc_list = [\"The Learn Python Challenge Rohit.\", \"They bought a car\", \"bangalore\",\"Python is a programming Language\"]\n",
        "c = \"PythOn\"\n",
        "check(doc_list,c.lower())"
      ],
      "execution_count": 16,
      "outputs": [
        {
          "output_type": "stream",
          "name": "stdout",
          "text": [
            "The Learn Python Challenge Rohit.\n",
            "Python is a programming Language\n"
          ]
        }
      ]
    },
    {
      "cell_type": "code",
      "metadata": {
        "colab": {
          "base_uri": "https://localhost:8080/"
        },
        "id": "E_P3or5dFGx1",
        "outputId": "9d1a042e-8c7d-48d9-a68f-eef18478a02f"
      },
      "source": [
        "# Question - 5\n",
        "def cal_gross(bp):\n",
        "  return 1.6*bp\n",
        "\n",
        "basic_pay = int(input(\"Enter the basic pay : \"))\n",
        "print(f\"The Gross pay is {cal_gross(basic_pay)}\")  "
      ],
      "execution_count": null,
      "outputs": [
        {
          "output_type": "stream",
          "name": "stdout",
          "text": [
            "Enter the basic pay : 10000\n",
            "The Gross pay is 16000.0\n"
          ]
        }
      ]
    }
  ]
}