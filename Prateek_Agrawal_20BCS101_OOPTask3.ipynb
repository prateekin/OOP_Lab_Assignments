{
  "nbformat": 4,
  "nbformat_minor": 0,
  "metadata": {
    "colab": {
      "name": "Prateek_Agrawal_20BCS101_OOPTask3.ipynb",
      "provenance": [],
      "authorship_tag": "ABX9TyMNgB+0V2Z6BX+jo50N4pkD",
      "include_colab_link": true
    },
    "kernelspec": {
      "name": "python3",
      "display_name": "Python 3"
    },
    "language_info": {
      "name": "python"
    }
  },
  "cells": [
    {
      "cell_type": "markdown",
      "metadata": {
        "id": "view-in-github",
        "colab_type": "text"
      },
      "source": [
        "<a href=\"https://colab.research.google.com/github/prateekin/OOP_Lab_Assignments/blob/main/Prateek_Agrawal_20BCS101_OOPTask3.ipynb\" target=\"_parent\"><img src=\"https://colab.research.google.com/assets/colab-badge.svg\" alt=\"Open In Colab\"/></a>"
      ]
    },
    {
      "cell_type": "code",
      "metadata": {
        "colab": {
          "base_uri": "https://localhost:8080/"
        },
        "id": "Wh7vm3z-nsZD",
        "outputId": "4d13e0e4-1d5e-4abf-a8aa-1d601bc72cdd"
      },
      "source": [
        "#Question - 1\n",
        "class student:\n",
        "    def __init__(self, name, reg_no, age, gender, branch, sem):\n",
        "        self.name = name\n",
        "        self.reg_no = reg_no\n",
        "        self.age = age\n",
        "        self.gender = gender\n",
        "        self.branch = branch\n",
        "        self.sem = sem\n",
        "\n",
        "    def displayInfo(self):\n",
        "        print(f\"The details of {self.name} are : \")\n",
        "        print(f\"Reg no    : {self.reg_no}\")\n",
        "        print(f\"Age       : {self.age}\")\n",
        "        print(f\"Gender    : {self.gender}\")\n",
        "        print(f\"Branch    : {self.branch}\")\n",
        "        print(f\"Semester  : {self.sem}\")\n",
        "\n",
        "\n",
        "class studentResultInfo(student):\n",
        "    def __init__(self,name, reg_no, age, gender, branch, sem, marks, percentage, grades):\n",
        "        super().__init__(name, reg_no, age, gender, branch, sem)\n",
        "        self.marks = marks\n",
        "        self.percentage = percentage\n",
        "        self.grades = grades\n",
        "    def displayResultInfo(self):\n",
        "        student.displayInfo(self)\n",
        "        print(f\"Marks     : {self.marks} \")\n",
        "        print(f\"Percentage: {self.percentage}\")\n",
        "        print(f\"Grades    : {self.grades}\")\n",
        "\n",
        "\n",
        "\n",
        "s1 = studentResultInfo(\"Prateek Agrawal\",\"20BCS101\",19,\"Male\",\"CSE\",3,98,\"98%\",\"A+\")\n",
        "s1.displayResultInfo()\n",
        "\n"
      ],
      "execution_count": 19,
      "outputs": [
        {
          "output_type": "stream",
          "name": "stdout",
          "text": [
            "The details of Prateek Agrawal are : \n",
            "Reg no    : 20BCS101\n",
            "Age       : 19\n",
            "Gender    : Male\n",
            "Branch    : CSE\n",
            "Semester  : 3\n",
            "Marks     : 98 \n",
            "Percentage: 98%\n",
            "Grades    : A+\n"
          ]
        }
      ]
    },
    {
      "cell_type": "code",
      "metadata": {
        "colab": {
          "base_uri": "https://localhost:8080/"
        },
        "id": "8E5mwuS5Ezr7",
        "outputId": "e713f488-9d2a-45b8-a5a1-2f6fcf67d6b1"
      },
      "source": [
        "#Question - 2\n",
        "class pdf:\n",
        "    max_size = 100\n",
        "    def __init__(self):\n",
        "        self.author_pdf = input(\"Enter the name of the author : \")\n",
        "        self.description_pdf = input(\"Enter the description of the Pdf : \")\n",
        "        self.file_size_pdf = int(input(\"Enter the size of the pdf : \"))\n",
        "\n",
        "    def displaypdfInfo(self):\n",
        "        print(f\"Author of Pdf : {self.author_pdf}\")\n",
        "        print(f\"Description   : {self.description_pdf}\")\n",
        "        print(f\"File Size     : {self.file_size_pdf}\")\n",
        "    \n",
        "    def checkSizepdf(self):\n",
        "        if self.file_size_pdf > pdf.max_size:\n",
        "            print(\"File limit exceeded.\")\n",
        "        else:\n",
        "            print(\"File size in normal range\")\n",
        "\n",
        "class picture:\n",
        "\n",
        "    max_height = 480\n",
        "    max_width  = 640\n",
        "    max_size   = 40\n",
        "    def __init__(self):\n",
        "        self.creator = input(\"Enter the name of the creator : \")\n",
        "        self.description = input(\"Enter the description of the Picture: \")\n",
        "        self.image_height = int(input(\"Enter the height of the image: \"))\n",
        "        self.image_width = int(input(\"Enter the width of the image : \"))\n",
        "        self.file_size = int(input(\"Enter the size of the picture : \"))\n",
        "\n",
        "    def displayInfoPicture(self) :\n",
        "        print(f\"Creator of Picture : {self.creator}\")\n",
        "        print(f\"Description        : {self.description}\")\n",
        "        print(f\"File Size          : {self.file_size}\")\n",
        "        print(f\"Image Height       : {self.image_height}\")\n",
        "        print(f\"Image Width        : {self.image_width}\")\n",
        "\n",
        "    def checkSize(self):\n",
        "        if self.file_size > picture.max_size:\n",
        "            print(\"File limit exceeded.\")\n",
        "        else:\n",
        "            print(\"File size in normal range\")\n",
        "\n",
        "    def checkDimension(self):\n",
        "        if self.image_height > picture.max_height or self.image_width > picture.max_width:\n",
        "            print(\"Dimensions Excceded.\")\n",
        "        else:\n",
        "            print(\"Image dimensions are in range.\")\n",
        "\n",
        "\n",
        "\n",
        "class contentManagmentSystem(pdf,picture):\n",
        "\n",
        "    def __init__(self):\n",
        "        self.pdfs = []\n",
        "        self.pictures = []\n",
        "    \n",
        "    def appendpdfs(self):\n",
        "        p = pdf()\n",
        "        self.pdfs.append(p)\n",
        "    \n",
        "    def appendpictures(self):\n",
        "        pic = picture()\n",
        "        self.pictures.append(pic)\n",
        "\n",
        "    \n",
        "        \n",
        "    def display(self) :\n",
        "        print(\"Printing all details of all the pds  ...\")\n",
        "        for x in self.pdfs:\n",
        "            x.displaypdfInfo()\n",
        "            print(\"\\n\")\n",
        "        print(\"\\nPrinting the all the details of pictures ...\\n\")\n",
        "        for y in self.pictures:\n",
        "            y.displayInfoPicture()\n",
        "            print(\"\\n\")\n",
        "\n",
        "            \n",
        "obj1 = contentManagmentSystem()\n",
        "obj1.appendpdfs()\n",
        "obj1.appendpictures()\n",
        "obj1.display()\n",
        "obj1.pdfs[0].checkSizepdf()\n",
        "obj1.pictures[0].checkSize()\n",
        "obj1.pictures[0].checkDimension()\n"
      ],
      "execution_count": 7,
      "outputs": [
        {
          "output_type": "stream",
          "name": "stdout",
          "text": [
            "Enter the name of the author : Prateek Agrawal\n",
            "Enter the description of the Pdf : This is a PDF File\n",
            "Enter the size of the pdf : 50\n",
            "Enter the name of the creator : Rohit\n",
            "Enter the description of the Picture: This is a Image File\n",
            "Enter the height of the image: 300\n",
            "Enter the width of the image : 400\n",
            "Enter the size of the picture : 25\n",
            "Printing all details of all the pds  ...\n",
            "Author of Pdf : Prateek Agrawal\n",
            "Description   : This is a PDF File\n",
            "File Size     : 50\n",
            "\n",
            "\n",
            "\n",
            "Printing the all the details of pictures ...\n",
            "\n",
            "Creator of Picture : Rohit\n",
            "Description        : This is a Image File\n",
            "File Size          : 25\n",
            "Image Height       : 300\n",
            "Image Width        : 400\n",
            "\n",
            "\n",
            "File size in normal range\n",
            "File size in normal range\n",
            "Image dimensions are in range.\n"
          ]
        }
      ]
    },
    {
      "cell_type": "code",
      "metadata": {
        "colab": {
          "base_uri": "https://localhost:8080/"
        },
        "id": "00Kii4oZGQBu",
        "outputId": "543a4e54-c673-4bf3-9b59-6b077bd94689"
      },
      "source": [
        "#Question - 3\n",
        "class vehicle:\n",
        "  def __init__(self,name,mileage,capacity):\n",
        "    self.name = name\n",
        "    self.mileage = mileage\n",
        "    self.capacity = capacity\n",
        "    self.fare_a = self.capacity*100\n",
        "\n",
        "    \n",
        "  def printfare(self):\n",
        "    print(f\"The fare is {self.fare_a}\")\n",
        "\n",
        "    \n",
        "\n",
        "class bus(vehicle):\n",
        "  def __init__(self,name,mileage,capacity = 50):\n",
        "    super().__init__(name,mileage,capacity)\n",
        "\n",
        "  def busfare(self):\n",
        "    self.busfare = self.fare_a * 1.1\n",
        "    print(f\"The bus fare is {self.busfare}\")\n",
        "\n",
        "\n",
        "v = vehicle('Maruti 800',15,4)\n",
        "v.printfare()\n",
        "b = bus('Volvo',5)\n",
        "b.busfare()"
      ],
      "execution_count": 18,
      "outputs": [
        {
          "output_type": "stream",
          "name": "stdout",
          "text": [
            "The fare is 400\n",
            "The bus fare is 5500.0\n"
          ]
        }
      ]
    }
  ]
}